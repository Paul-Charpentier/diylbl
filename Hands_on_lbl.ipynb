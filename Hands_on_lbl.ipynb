{
 "cells": [
  {
   "cell_type": "markdown",
   "id": "dc18b2b5",
   "metadata": {},
   "source": [
    "# Imports\n",
    "For this part of the hands on session, a few python package are required but they all can be installed simply using the command pip install"
   ]
  },
  {
   "cell_type": "code",
   "execution_count": 1,
   "id": "5e26c1d6",
   "metadata": {},
   "outputs": [],
   "source": [
    "import numpy as np\n",
    "import matplotlib.pyplot as plt\n",
    "from scipy.special import erf \n",
    "import lmfit # source: https://lmfit.github.io/lmfit-py/\n",
    "from lmfit import minimize, Parameters, fit_report\n",
    "from astropy.timeseries import LombScargle"
   ]
  },
  {
   "cell_type": "markdown",
   "id": "e8adff80",
   "metadata": {},
   "source": [
    "# Hands on session Part II\n",
    "\n",
    "This part of the lbl hands on session is about to play with a toy model to better understand the data produced by lbl and what is embebded in them.\n",
    "\n",
    "Please note that this is a toy model so it is not represent the true lbl computations.\n",
    "\n",
    "## Build a line template \n",
    "\n",
    "Every lbl computation are made compared to a template so let's build the template of one line. \n",
    "\n",
    "For this toy model, every line will be considered as gaussian lines (or skewed gaussian if you want to try a more complex model with assymetric lines) build using the following function:"
   ]
  },
  {
   "cell_type": "code",
   "execution_count": 2,
   "id": "f2e029d4",
   "metadata": {},
   "outputs": [],
   "source": [
    "def Gauss(x, a, sigma):\n",
    "        return 1 - a * np.exp(-x**2 / (2 * sigma**2))\n",
    "\n",
    "\n",
    "def skewed_gaussian(x, a, sigma, alpha) :\n",
    "    def cdf(x) :\n",
    "        return((1/2)*(1+erf(x/np.sqrt(2))))\n",
    "\n",
    "    return 1 + (2/sigma)*(-a/2)*np.exp(-(x)**2 / (2 * sigma**2))*cdf(alpha*(x)/sigma)"
   ]
  },
  {
   "cell_type": "code",
   "execution_count": null,
   "id": "b0462b70",
   "metadata": {},
   "outputs": [],
   "source": [
    "a0 =        #set your line depth\n",
    "sigma_0 =   #set your line width\n",
    "x_0 =       #set your line x-shift \n",
    "\n",
    "x = np.arange(-2,2,1/10) \n",
    "Template = Gauss(x-x_0, a0, sigma_0)\n",
    "\n",
    "plt.plot(x, Template, \"g\")\n",
    "plt.show()"
   ]
  },
  {
   "cell_type": "markdown",
   "id": "26d022f1",
   "metadata": {},
   "source": [
    "## Build a line observation\n",
    "\n",
    "So here is your template for that line. \n",
    "\n",
    "Then build one observation of that line by building another line with slightly different paramaters (for consistent results please do not exceed a few percent of the initial template parameter)"
   ]
  },
  {
   "cell_type": "code",
   "execution_count": null,
   "id": "13454370",
   "metadata": {},
   "outputs": [],
   "source": [
    "a_l =          #set your line depth\n",
    "sigma_l =      #set your line width\n",
    "x_l =          #set your line x-shift\n",
    "\n",
    "line = Gauss(x+x_l, a_l, sigma_l)\n",
    "\n",
    "plt.plot(x, Template, \"g\")\n",
    "plt.plot(x, line)\n",
    "plt.show()\n",
    "\n",
    "#lets plot the difference between the line and the template\n",
    "plt.plot(x, line-Template)\n",
    "plt.show()"
   ]
  },
  {
   "cell_type": "markdown",
   "id": "c2a05e62",
   "metadata": {},
   "source": [
    "## Compute the bouchy equation\n",
    "\n",
    "lbl is using the Bouchy's framework (Bouchy et al. 2001): to simplify, the difference between the line observed $A$ and the template $A_0$ can be decomposed into a Taylor serie as following :\n",
    "\n",
    "$A(i)-A_0(i) = d_0v + dv \\frac{d A_0(i)}{d \\lambda(i)} + d_2v \\frac{d^2 A_0(i)}{d \\lambda(i)^2} + d_3v \\frac{d^3 A_0(i)}{d \\lambda(i)^3} + \\mathcal{O}(\\frac{d^3 A_0(i)}{d \\lambda(i)^3}) $\n",
    "\n",
    "What lbl do is to compute $d_0v$, $dv$, $d_2v$, $d_3v$ ... In our model we will fit those parameters. \n",
    "\n",
    "Please note that this is a toy model so it is not represent the true lbl computations. For more details, please refer to Bouchy+01 and Artigau+22 or dig into the lbl code to see how it is truely computed. "
   ]
  },
  {
   "cell_type": "code",
   "execution_count": 4,
   "id": "898b7399",
   "metadata": {},
   "outputs": [],
   "source": [
    "#bouchy equation to minimize \n",
    "def equation(params, d1, d2, d3, diff):\n",
    "    d0v = params.get('d0v').value\n",
    "    dv  = params.get('dv').value\n",
    "    d2v = params.get('d2v').value\n",
    "    d3v = params.get('d3v').value\n",
    "    z = d0v + dv*d1 + d2v*d2 + d3v*d3 - diff\n",
    "    return(z)\n",
    "\n",
    "def fit_bouchy(line, Template): \n",
    "\n",
    "    #get difference between line and template\n",
    "    diff_seg = line - Template\n",
    "    \n",
    "    #get Template Gradient\n",
    "    d1 = np.gradient(Template, x) #first dervative\n",
    "    d2 = np.gradient(d1, x)       #second dervative\n",
    "    d3 = np.gradient(d2, x)       #second dervative\n",
    "    \n",
    "    #initialize\n",
    "    params_ini = Parameters()\n",
    "    params_ini.add('d0v', value=0, min=-np.inf, max=np.inf)\n",
    "    params_ini.add('dv', value=0, min=-np.inf, max=np.inf)\n",
    "    params_ini.add('d2v', value=0, min=-np.inf, max=np.inf)\n",
    "    params_ini.add('d3v', value=0, min=-np.inf, max=np.inf)\n",
    "    #fit\n",
    "    out = minimize(equation, params_ini, args = (d1, d2, d3, diff_seg))\n",
    "    \n",
    "    return (out.params)"
   ]
  },
  {
   "cell_type": "code",
   "execution_count": null,
   "id": "54be0d06",
   "metadata": {},
   "outputs": [],
   "source": [
    "result = fit_bouchy(line, Template)\n",
    "print(result)\n",
    "\n",
    "plt.plot(x, equation(result, np.gradient(Template, x), np.gradient(np.gradient(Template, x), x), np.gradient(np.gradient(np.gradient(Template, x), x), x), line-Template)+line-Template, label='fit')\n",
    "plt.plot(x, line-Template, label='A(i)-A0(i)')\n",
    "plt.legend()\n",
    "plt.show()\n",
    "\n",
    "plt.plot(x, equation(result, np.gradient(Template, x), np.gradient(np.gradient(Template, x), x), np.gradient(np.gradient(np.gradient(Template, x), x), x), line-Template)+line, label='fit')\n",
    "plt.plot(x, Template, label='Template')\n",
    "plt.plot(x, line, label='Line')\n",
    "plt.legend()\n",
    "plt.show()"
   ]
  },
  {
   "cell_type": "markdown",
   "id": "3c058edf",
   "metadata": {},
   "source": [
    "# Playground ! \n",
    "\n",
    "Now, up to you to do wathever tests you want and see how lbl behaves. There is no limit but your imagination. \n",
    "\n",
    "If you don't know what to do first, here are suggestions of physically motivated tests that you can try:\n",
    "\n",
    "- Modulate the gaussian parameters within simulated observation. \n",
    "    - Modulate the line depth 'a' could simulated temperature variations\n",
    "    - Modulate the x-offset would simulate a radial velocity doppler-shift\n",
    "    - Modulate the line width \\sigma could simulate a Zeeman broadenening induced by the magnetic field for example \n",
    "        - If you are working with multiple lines. You can attribute a different \"sensitivity\" for each lines with respect to that modulation. It could emulated Landé g factors. \n",
    "    - Use skewed to emulate BIS. \n",
    "- Add photon noise\n",
    "    - On a single line. \n",
    "    - On multiple lines \n",
    "        - LBL is known to be resilient to noise by averaging the data among all the lines. Thats how we obtain High precision RVs for example. (to be precise, inside lbl we use the odd_ratio_mean() function to average over all the lines. This function can be found in lbl/lbl/core/math.py file of your lbl installation. So you can import it using `from lbl.core import math as mp` and then call it with `mp.odd_ratio_mean()`). \n",
    "        - SPIRou lines are known to be more noisy in the bluest part of the spectrum\n",
    "- Build lbl data cube \n",
    "    1. Build a multi line template with different parameters to emulate a template sprectum. \n",
    "    2. Build any observation you want by modulating whatever parameter along time. \n",
    "    3. Add noise (optional)\n",
    "    4. Run the fit (depending on how big your data cube is you might need to parallelize your code for computation time saving)\n",
    "    5. Exploit your so produced lbl data !\n",
    "        - by averaging them (odd_ratio_mean())\n",
    "        - by applying a PCA\n",
    "        - by fitting GPs or Keplerian model to the averaged/to the PCA component\n",
    "        \n",
    "Feel free to edit every existing function that I've provided if it's more convenient to you"
   ]
  },
  {
   "cell_type": "code",
   "execution_count": null,
   "id": "b312d199",
   "metadata": {},
   "outputs": [],
   "source": []
  },
  {
   "cell_type": "code",
   "execution_count": null,
   "id": "de58c8c9",
   "metadata": {},
   "outputs": [],
   "source": []
  },
  {
   "cell_type": "code",
   "execution_count": null,
   "id": "7dbce5aa",
   "metadata": {},
   "outputs": [],
   "source": []
  },
  {
   "cell_type": "code",
   "execution_count": null,
   "id": "5b073ad9",
   "metadata": {},
   "outputs": [],
   "source": []
  },
  {
   "cell_type": "code",
   "execution_count": null,
   "id": "c3e7d7d9",
   "metadata": {},
   "outputs": [],
   "source": []
  },
  {
   "cell_type": "code",
   "execution_count": null,
   "id": "ccd1b04d",
   "metadata": {},
   "outputs": [],
   "source": []
  },
  {
   "cell_type": "code",
   "execution_count": null,
   "id": "5bc9ac41",
   "metadata": {},
   "outputs": [],
   "source": []
  },
  {
   "cell_type": "code",
   "execution_count": null,
   "id": "9a6b571d",
   "metadata": {},
   "outputs": [],
   "source": []
  },
  {
   "cell_type": "code",
   "execution_count": null,
   "id": "13766105",
   "metadata": {},
   "outputs": [],
   "source": []
  }
 ],
 "metadata": {
  "kernelspec": {
   "display_name": "Python 3",
   "language": "python",
   "name": "python3"
  },
  "language_info": {
   "codemirror_mode": {
    "name": "ipython",
    "version": 3
   },
   "file_extension": ".py",
   "mimetype": "text/x-python",
   "name": "python",
   "nbconvert_exporter": "python",
   "pygments_lexer": "ipython3",
   "version": "3.8.10"
  }
 },
 "nbformat": 4,
 "nbformat_minor": 5
}
